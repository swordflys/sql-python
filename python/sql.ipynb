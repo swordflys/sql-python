{
 "cells": [
  {
   "cell_type": "code",
   "execution_count": 1,
   "id": "c1931c9d-f0a8-484d-b4d1-8bec976ac7f3",
   "metadata": {
    "scrolled": true
   },
   "outputs": [
    {
     "name": "stdout",
     "output_type": "stream",
     "text": [
      "<pymysql.connections.Connection object at 0x756c9fdc90>\n"
     ]
    }
   ],
   "source": [
    "import pymysql\n",
    "import sqlalchemy\n",
    "%load_ext sql\n",
    "%sql mysql://root@localhost/tysql\n",
    "db = pymysql.connect(host='localhost',user='root',db='tysql')\n",
    "print(db)"
   ]
  },
  {
   "cell_type": "code",
   "execution_count": 2,
   "id": "a67f1af5-a417-4058-b0de-8af3337bc981",
   "metadata": {},
   "outputs": [],
   "source": [
    "cursor=db.cursor()"
   ]
  },
  {
   "cell_type": "code",
   "execution_count": 3,
   "id": "dbfb0241-cfe9-4154-bc52-cda01d5a8f7c",
   "metadata": {},
   "outputs": [],
   "source": [
    "sql002=\"\"\"\n",
    "select cust_name from Customers order by cust_name desc;\n",
    "\"\"\""
   ]
  },
  {
   "cell_type": "code",
   "execution_count": 4,
   "id": "256b2b1e-38ef-4123-a84a-61d97eaa1e8a",
   "metadata": {
    "scrolled": true
   },
   "outputs": [],
   "source": [
    "cursor.execute(sql002)\n",
    "result001=cursor.fetchall()"
   ]
  },
  {
   "cell_type": "code",
   "execution_count": 5,
   "id": "4016b153-fc48-44c1-a633-58abf9635a93",
   "metadata": {},
   "outputs": [
    {
     "name": "stdout",
     "output_type": "stream",
     "text": [
      "(('Village Toys',), ('The Toy Store',), ('Kids Place',), ('Fun4All',), ('Fun4All',))\n"
     ]
    }
   ],
   "source": [
    "print(result001)"
   ]
  },
  {
   "cell_type": "code",
   "execution_count": 6,
   "id": "09105397-e8dd-40f5-8125-3df9442c4254",
   "metadata": {},
   "outputs": [
    {
     "name": "stdout",
     "output_type": "stream",
     "text": [
      " * mysql://root@localhost/tysql\n",
      "9 rows affected.\n"
     ]
    },
    {
     "data": {
      "text/html": [
       "<table>\n",
       "    <thead>\n",
       "        <tr>\n",
       "            <th>vend_id</th>\n",
       "        </tr>\n",
       "    </thead>\n",
       "    <tbody>\n",
       "        <tr>\n",
       "            <td>BRS01</td>\n",
       "        </tr>\n",
       "        <tr>\n",
       "            <td>BRS01</td>\n",
       "        </tr>\n",
       "        <tr>\n",
       "            <td>BRS01</td>\n",
       "        </tr>\n",
       "        <tr>\n",
       "            <td>DLL01</td>\n",
       "        </tr>\n",
       "        <tr>\n",
       "            <td>DLL01</td>\n",
       "        </tr>\n",
       "        <tr>\n",
       "            <td>DLL01</td>\n",
       "        </tr>\n",
       "        <tr>\n",
       "            <td>DLL01</td>\n",
       "        </tr>\n",
       "        <tr>\n",
       "            <td>FNG01</td>\n",
       "        </tr>\n",
       "        <tr>\n",
       "            <td>FNG01</td>\n",
       "        </tr>\n",
       "    </tbody>\n",
       "</table>"
      ],
      "text/plain": [
       "[('BRS01',),\n",
       " ('BRS01',),\n",
       " ('BRS01',),\n",
       " ('DLL01',),\n",
       " ('DLL01',),\n",
       " ('DLL01',),\n",
       " ('DLL01',),\n",
       " ('FNG01',),\n",
       " ('FNG01',)]"
      ]
     },
     "execution_count": 6,
     "metadata": {},
     "output_type": "execute_result"
    }
   ],
   "source": [
    "%%sql\n",
    "select vend_id from Products;"
   ]
  },
  {
   "cell_type": "code",
   "execution_count": 7,
   "id": "1f05db4f-afa0-45b9-93b6-339e1dcd9047",
   "metadata": {},
   "outputs": [
    {
     "name": "stdout",
     "output_type": "stream",
     "text": [
      " * mysql://root@localhost/tysql\n",
      "5 rows affected.\n"
     ]
    },
    {
     "data": {
      "text/html": [
       "<table>\n",
       "    <thead>\n",
       "        <tr>\n",
       "            <th>cust_name</th>\n",
       "        </tr>\n",
       "    </thead>\n",
       "    <tbody>\n",
       "        <tr>\n",
       "            <td>Village Toys</td>\n",
       "        </tr>\n",
       "        <tr>\n",
       "            <td>The Toy Store</td>\n",
       "        </tr>\n",
       "        <tr>\n",
       "            <td>Kids Place</td>\n",
       "        </tr>\n",
       "        <tr>\n",
       "            <td>Fun4All</td>\n",
       "        </tr>\n",
       "        <tr>\n",
       "            <td>Fun4All</td>\n",
       "        </tr>\n",
       "    </tbody>\n",
       "</table>"
      ],
      "text/plain": [
       "[('Village Toys',),\n",
       " ('The Toy Store',),\n",
       " ('Kids Place',),\n",
       " ('Fun4All',),\n",
       " ('Fun4All',)]"
      ]
     },
     "execution_count": 7,
     "metadata": {},
     "output_type": "execute_result"
    }
   ],
   "source": [
    "%%sql\n",
    "select cust_name from Customers order by cust_name desc;"
   ]
  },
  {
   "cell_type": "code",
   "execution_count": 8,
   "id": "75bbe258-3343-4a91-bb15-57d59e2c562e",
   "metadata": {},
   "outputs": [
    {
     "name": "stdout",
     "output_type": "stream",
     "text": [
      " * mysql://root@localhost/tysql\n",
      "4 rows affected.\n"
     ]
    },
    {
     "data": {
      "text/html": [
       "<table>\n",
       "    <thead>\n",
       "        <tr>\n",
       "            <th>cust_name</th>\n",
       "        </tr>\n",
       "    </thead>\n",
       "    <tbody>\n",
       "        <tr>\n",
       "            <td>Village Toys</td>\n",
       "        </tr>\n",
       "        <tr>\n",
       "            <td>The Toy Store</td>\n",
       "        </tr>\n",
       "        <tr>\n",
       "            <td>Kids Place</td>\n",
       "        </tr>\n",
       "        <tr>\n",
       "            <td>Fun4All</td>\n",
       "        </tr>\n",
       "    </tbody>\n",
       "</table>"
      ],
      "text/plain": [
       "[('Village Toys',), ('The Toy Store',), ('Kids Place',), ('Fun4All',)]"
      ]
     },
     "execution_count": 8,
     "metadata": {},
     "output_type": "execute_result"
    }
   ],
   "source": [
    "%%sql\n",
    "select distinct cust_name from Customers order by cust_name desc;"
   ]
  },
  {
   "cell_type": "code",
   "execution_count": 9,
   "id": "ec83dca0-5ed3-4f07-b667-284ca2656272",
   "metadata": {},
   "outputs": [
    {
     "name": "stdout",
     "output_type": "stream",
     "text": [
      " * mysql://root@localhost/tysql\n",
      "3 rows affected.\n"
     ]
    },
    {
     "data": {
      "text/html": [
       "<table>\n",
       "    <thead>\n",
       "        <tr>\n",
       "            <th>Field</th>\n",
       "            <th>Type</th>\n",
       "            <th>Null</th>\n",
       "            <th>Key</th>\n",
       "            <th>Default</th>\n",
       "            <th>Extra</th>\n",
       "        </tr>\n",
       "    </thead>\n",
       "    <tbody>\n",
       "        <tr>\n",
       "            <td>order_num</td>\n",
       "            <td>int(11)</td>\n",
       "            <td>NO</td>\n",
       "            <td>PRI</td>\n",
       "            <td>None</td>\n",
       "            <td></td>\n",
       "        </tr>\n",
       "        <tr>\n",
       "            <td>order_date</td>\n",
       "            <td>datetime</td>\n",
       "            <td>NO</td>\n",
       "            <td></td>\n",
       "            <td>None</td>\n",
       "            <td></td>\n",
       "        </tr>\n",
       "        <tr>\n",
       "            <td>cust_id</td>\n",
       "            <td>char(10)</td>\n",
       "            <td>NO</td>\n",
       "            <td>MUL</td>\n",
       "            <td>None</td>\n",
       "            <td></td>\n",
       "        </tr>\n",
       "    </tbody>\n",
       "</table>"
      ],
      "text/plain": [
       "[('order_num', 'int(11)', 'NO', 'PRI', None, ''),\n",
       " ('order_date', 'datetime', 'NO', '', None, ''),\n",
       " ('cust_id', 'char(10)', 'NO', 'MUL', None, '')]"
      ]
     },
     "execution_count": 9,
     "metadata": {},
     "output_type": "execute_result"
    }
   ],
   "source": [
    "%%sql\n",
    "show columns from Orders;"
   ]
  },
  {
   "cell_type": "code",
   "execution_count": 10,
   "id": "5ae9f30e-e8d0-40d1-b005-d490f4dbdfc3",
   "metadata": {},
   "outputs": [
    {
     "name": "stdout",
     "output_type": "stream",
     "text": [
      " * mysql://root@localhost/tysql\n",
      "5 rows affected.\n"
     ]
    },
    {
     "data": {
      "text/html": [
       "<table>\n",
       "    <thead>\n",
       "        <tr>\n",
       "            <th>cust_id</th>\n",
       "            <th>order_num</th>\n",
       "        </tr>\n",
       "    </thead>\n",
       "    <tbody>\n",
       "        <tr>\n",
       "            <td>1000000005</td>\n",
       "            <td>20008</td>\n",
       "        </tr>\n",
       "        <tr>\n",
       "            <td>1000000004</td>\n",
       "            <td>20007</td>\n",
       "        </tr>\n",
       "        <tr>\n",
       "            <td>1000000003</td>\n",
       "            <td>20006</td>\n",
       "        </tr>\n",
       "        <tr>\n",
       "            <td>1000000001</td>\n",
       "            <td>20009</td>\n",
       "        </tr>\n",
       "        <tr>\n",
       "            <td>1000000001</td>\n",
       "            <td>20005</td>\n",
       "        </tr>\n",
       "    </tbody>\n",
       "</table>"
      ],
      "text/plain": [
       "[('1000000005', 20008),\n",
       " ('1000000004', 20007),\n",
       " ('1000000003', 20006),\n",
       " ('1000000001', 20009),\n",
       " ('1000000001', 20005)]"
      ]
     },
     "execution_count": 10,
     "metadata": {},
     "output_type": "execute_result"
    }
   ],
   "source": [
    "%%sql\n",
    "select cust_id,order_num from Orders order by cust_id desc,order_date;"
   ]
  },
  {
   "cell_type": "code",
   "execution_count": 11,
   "id": "31da5596-f735-481d-b29b-306641648573",
   "metadata": {},
   "outputs": [
    {
     "name": "stdout",
     "output_type": "stream",
     "text": [
      " * mysql://root@localhost/tysql\n",
      "3 rows affected.\n"
     ]
    },
    {
     "data": {
      "text/html": [
       "<table>\n",
       "    <thead>\n",
       "        <tr>\n",
       "            <th>order_num</th>\n",
       "        </tr>\n",
       "    </thead>\n",
       "    <tbody>\n",
       "        <tr>\n",
       "            <td>20009</td>\n",
       "        </tr>\n",
       "        <tr>\n",
       "            <td>20005</td>\n",
       "        </tr>\n",
       "        <tr>\n",
       "            <td>20007</td>\n",
       "        </tr>\n",
       "    </tbody>\n",
       "</table>"
      ],
      "text/plain": [
       "[(20009,), (20005,), (20007,)]"
      ]
     },
     "execution_count": 11,
     "metadata": {},
     "output_type": "execute_result"
    }
   ],
   "source": [
    "%%sql\n",
    "select distinct order_num from OrderItems where quantity>=100 order by quantity desc,item_price desc;"
   ]
  },
  {
   "cell_type": "code",
   "execution_count": 12,
   "id": "ee7c0235-5f6a-403e-afcc-c0366e1ce7f2",
   "metadata": {},
   "outputs": [
    {
     "name": "stdout",
     "output_type": "stream",
     "text": [
      " * mysql://root@localhost/tysql\n",
      "1 rows affected.\n"
     ]
    },
    {
     "data": {
      "text/html": [
       "<table>\n",
       "    <thead>\n",
       "        <tr>\n",
       "            <th>vend_name</th>\n",
       "        </tr>\n",
       "    </thead>\n",
       "    <tbody>\n",
       "        <tr>\n",
       "            <td>Doll House Inc.</td>\n",
       "        </tr>\n",
       "    </tbody>\n",
       "</table>"
      ],
      "text/plain": [
       "[('Doll House Inc.',)]"
      ]
     },
     "execution_count": 12,
     "metadata": {},
     "output_type": "execute_result"
    }
   ],
   "source": [
    "%%sql\n",
    "select vend_name from Vendors where vend_state=\"CA\" and vend_country=\"USA\";"
   ]
  },
  {
   "cell_type": "code",
   "execution_count": 13,
   "id": "b8bee819-0a0d-4d32-a3af-953cd87b4edb",
   "metadata": {},
   "outputs": [
    {
     "name": "stdout",
     "output_type": "stream",
     "text": [
      " * mysql://root@localhost/tysql\n",
      "5 rows affected.\n"
     ]
    },
    {
     "data": {
      "text/html": [
       "<table>\n",
       "    <thead>\n",
       "        <tr>\n",
       "            <th>Field</th>\n",
       "            <th>Type</th>\n",
       "            <th>Null</th>\n",
       "            <th>Key</th>\n",
       "            <th>Default</th>\n",
       "            <th>Extra</th>\n",
       "        </tr>\n",
       "    </thead>\n",
       "    <tbody>\n",
       "        <tr>\n",
       "            <td>order_num</td>\n",
       "            <td>int(11)</td>\n",
       "            <td>NO</td>\n",
       "            <td>PRI</td>\n",
       "            <td>None</td>\n",
       "            <td></td>\n",
       "        </tr>\n",
       "        <tr>\n",
       "            <td>order_item</td>\n",
       "            <td>int(11)</td>\n",
       "            <td>NO</td>\n",
       "            <td>PRI</td>\n",
       "            <td>None</td>\n",
       "            <td></td>\n",
       "        </tr>\n",
       "        <tr>\n",
       "            <td>prod_id</td>\n",
       "            <td>char(10)</td>\n",
       "            <td>NO</td>\n",
       "            <td>MUL</td>\n",
       "            <td>None</td>\n",
       "            <td></td>\n",
       "        </tr>\n",
       "        <tr>\n",
       "            <td>quantity</td>\n",
       "            <td>int(11)</td>\n",
       "            <td>NO</td>\n",
       "            <td></td>\n",
       "            <td>None</td>\n",
       "            <td></td>\n",
       "        </tr>\n",
       "        <tr>\n",
       "            <td>item_price</td>\n",
       "            <td>decimal(8,2)</td>\n",
       "            <td>NO</td>\n",
       "            <td></td>\n",
       "            <td>None</td>\n",
       "            <td></td>\n",
       "        </tr>\n",
       "    </tbody>\n",
       "</table>"
      ],
      "text/plain": [
       "[('order_num', 'int(11)', 'NO', 'PRI', None, ''),\n",
       " ('order_item', 'int(11)', 'NO', 'PRI', None, ''),\n",
       " ('prod_id', 'char(10)', 'NO', 'MUL', None, ''),\n",
       " ('quantity', 'int(11)', 'NO', '', None, ''),\n",
       " ('item_price', 'decimal(8,2)', 'NO', '', None, '')]"
      ]
     },
     "execution_count": 13,
     "metadata": {},
     "output_type": "execute_result"
    }
   ],
   "source": [
    "%%sql\n",
    "show columns from OrderItems;"
   ]
  },
  {
   "cell_type": "code",
   "execution_count": 14,
   "id": "f5df3c78-a9a7-46b0-8b60-41fbce323b31",
   "metadata": {},
   "outputs": [
    {
     "name": "stdout",
     "output_type": "stream",
     "text": [
      " * mysql://root@localhost/tysql\n",
      "1 rows affected.\n"
     ]
    },
    {
     "data": {
      "text/html": [
       "<table>\n",
       "    <thead>\n",
       "        <tr>\n",
       "            <th>order_num</th>\n",
       "            <th>order_item</th>\n",
       "            <th>prod_id</th>\n",
       "            <th>quantity</th>\n",
       "            <th>item_price</th>\n",
       "        </tr>\n",
       "    </thead>\n",
       "    <tbody>\n",
       "        <tr>\n",
       "            <td>20005</td>\n",
       "            <td>1</td>\n",
       "            <td>BR01</td>\n",
       "            <td>100</td>\n",
       "            <td>5.49</td>\n",
       "        </tr>\n",
       "    </tbody>\n",
       "</table>"
      ],
      "text/plain": [
       "[(20005, 1, 'BR01', 100, Decimal('5.49'))]"
      ]
     },
     "execution_count": 14,
     "metadata": {},
     "output_type": "execute_result"
    }
   ],
   "source": [
    "%%sql\n",
    "select * from OrderItems limit 1;"
   ]
  },
  {
   "cell_type": "code",
   "execution_count": 15,
   "id": "57d9e5c1-2666-417f-b846-0df8a0e8fe33",
   "metadata": {},
   "outputs": [
    {
     "name": "stdout",
     "output_type": "stream",
     "text": [
      " * mysql://root@localhost/tysql\n",
      "2 rows affected.\n"
     ]
    },
    {
     "data": {
      "text/html": [
       "<table>\n",
       "    <thead>\n",
       "        <tr>\n",
       "            <th>order_num</th>\n",
       "            <th>prod_id</th>\n",
       "            <th>quantity</th>\n",
       "        </tr>\n",
       "    </thead>\n",
       "    <tbody>\n",
       "        <tr>\n",
       "            <td>20005</td>\n",
       "            <td>BR01</td>\n",
       "            <td>100</td>\n",
       "        </tr>\n",
       "        <tr>\n",
       "            <td>20005</td>\n",
       "            <td>BR03</td>\n",
       "            <td>100</td>\n",
       "        </tr>\n",
       "    </tbody>\n",
       "</table>"
      ],
      "text/plain": [
       "[(20005, 'BR01', 100), (20005, 'BR03', 100)]"
      ]
     },
     "execution_count": 15,
     "metadata": {},
     "output_type": "execute_result"
    }
   ],
   "source": [
    "%%sql\n",
    "select order_num,prod_id,quantity from OrderItems where prod_id in ('BR01','BR02','BR03') and quantity >=100;  "
   ]
  },
  {
   "cell_type": "code",
   "execution_count": 16,
   "id": "64a1dd57-56e9-467f-8261-9ca0fc6a57d3",
   "metadata": {},
   "outputs": [
    {
     "name": "stdout",
     "output_type": "stream",
     "text": [
      " * mysql://root@localhost/tysql\n",
      "5 rows affected.\n"
     ]
    },
    {
     "data": {
      "text/html": [
       "<table>\n",
       "    <thead>\n",
       "        <tr>\n",
       "            <th>prod_name</th>\n",
       "            <th>prod_price</th>\n",
       "        </tr>\n",
       "    </thead>\n",
       "    <tbody>\n",
       "        <tr>\n",
       "            <td>Fish bean bag toy</td>\n",
       "            <td>3.49</td>\n",
       "        </tr>\n",
       "        <tr>\n",
       "            <td>Bird bean bag toy</td>\n",
       "            <td>3.49</td>\n",
       "        </tr>\n",
       "        <tr>\n",
       "            <td>Rabbit bean bag toy</td>\n",
       "            <td>3.49</td>\n",
       "        </tr>\n",
       "        <tr>\n",
       "            <td>Raggedy Ann</td>\n",
       "            <td>4.99</td>\n",
       "        </tr>\n",
       "        <tr>\n",
       "            <td>8 inch teddy bear</td>\n",
       "            <td>5.99</td>\n",
       "        </tr>\n",
       "    </tbody>\n",
       "</table>"
      ],
      "text/plain": [
       "[('Fish bean bag toy', Decimal('3.49')),\n",
       " ('Bird bean bag toy', Decimal('3.49')),\n",
       " ('Rabbit bean bag toy', Decimal('3.49')),\n",
       " ('Raggedy Ann', Decimal('4.99')),\n",
       " ('8 inch teddy bear', Decimal('5.99'))]"
      ]
     },
     "execution_count": 16,
     "metadata": {},
     "output_type": "execute_result"
    }
   ],
   "source": [
    "%%sql\n",
    "select prod_name,prod_price from Products where prod_price>=3 and prod_price<=6 order by prod_price;"
   ]
  },
  {
   "cell_type": "code",
   "execution_count": 17,
   "id": "5a0a1606-5864-4ce5-b104-692cd164745b",
   "metadata": {},
   "outputs": [
    {
     "name": "stdout",
     "output_type": "stream",
     "text": [
      " * mysql://root@localhost/tysql\n",
      "1 rows affected.\n"
     ]
    },
    {
     "data": {
      "text/html": [
       "<table>\n",
       "    <thead>\n",
       "        <tr>\n",
       "            <th>prod_name</th>\n",
       "            <th>prod_desc</th>\n",
       "        </tr>\n",
       "    </thead>\n",
       "    <tbody>\n",
       "        <tr>\n",
       "            <td>Rabbit bean bag toy</td>\n",
       "            <td>Rabbit bean bag toy, comes with bean bag carrots</td>\n",
       "        </tr>\n",
       "    </tbody>\n",
       "</table>"
      ],
      "text/plain": [
       "[('Rabbit bean bag toy', 'Rabbit bean bag toy, comes with bean bag carrots')]"
      ]
     },
     "execution_count": 17,
     "metadata": {},
     "output_type": "execute_result"
    }
   ],
   "source": [
    "%%sql\n",
    "select prod_name,prod_desc from Products where prod_desc like \"%toy%carrots%\" or prod_desc like \"%carrots%toy%\";"
   ]
  },
  {
   "cell_type": "code",
   "execution_count": 18,
   "id": "d021f89d-3f6a-4425-95e4-cf4d346e3195",
   "metadata": {},
   "outputs": [
    {
     "name": "stdout",
     "output_type": "stream",
     "text": [
      " * mysql://root@localhost/tysql\n",
      "1 rows affected.\n"
     ]
    },
    {
     "data": {
      "text/html": [
       "<table>\n",
       "    <thead>\n",
       "        <tr>\n",
       "            <th>prod_name</th>\n",
       "            <th>prod_desc</th>\n",
       "        </tr>\n",
       "    </thead>\n",
       "    <tbody>\n",
       "        <tr>\n",
       "            <td>Rabbit bean bag toy</td>\n",
       "            <td>Rabbit bean bag toy, comes with bean bag carrots</td>\n",
       "        </tr>\n",
       "    </tbody>\n",
       "</table>"
      ],
      "text/plain": [
       "[('Rabbit bean bag toy', 'Rabbit bean bag toy, comes with bean bag carrots')]"
      ]
     },
     "execution_count": 18,
     "metadata": {},
     "output_type": "execute_result"
    }
   ],
   "source": [
    "%%sql\n",
    "select prod_name,prod_desc from Products where prod_desc like \"%toy%carrots%\";"
   ]
  },
  {
   "cell_type": "code",
   "execution_count": 19,
   "id": "1d9c5b2e-a67c-43bf-8c4e-82cb3591ec10",
   "metadata": {},
   "outputs": [
    {
     "name": "stdout",
     "output_type": "stream",
     "text": [
      " * mysql://root@localhost/tysql\n",
      "6 rows affected.\n"
     ]
    },
    {
     "data": {
      "text/html": [
       "<table>\n",
       "    <thead>\n",
       "        <tr>\n",
       "            <th>vend_id</th>\n",
       "            <th>vname</th>\n",
       "            <th>vaddress</th>\n",
       "            <th>vcity</th>\n",
       "        </tr>\n",
       "    </thead>\n",
       "    <tbody>\n",
       "        <tr>\n",
       "            <td>BRE02</td>\n",
       "            <td>Bear Emporium</td>\n",
       "            <td>500 Park Street</td>\n",
       "            <td>Anytown</td>\n",
       "        </tr>\n",
       "        <tr>\n",
       "            <td>BRS01</td>\n",
       "            <td>Bears R Us</td>\n",
       "            <td>123 Main Street</td>\n",
       "            <td>Bear Town</td>\n",
       "        </tr>\n",
       "        <tr>\n",
       "            <td>DLL01</td>\n",
       "            <td>Doll House Inc.</td>\n",
       "            <td>555 High Street</td>\n",
       "            <td>Dollsville</td>\n",
       "        </tr>\n",
       "        <tr>\n",
       "            <td>FNG01</td>\n",
       "            <td>Fun and Games</td>\n",
       "            <td>42 Galaxy Road</td>\n",
       "            <td>London</td>\n",
       "        </tr>\n",
       "        <tr>\n",
       "            <td>FRB01</td>\n",
       "            <td>Furball Inc.</td>\n",
       "            <td>1000 5th Avenue</td>\n",
       "            <td>New York</td>\n",
       "        </tr>\n",
       "        <tr>\n",
       "            <td>JTS01</td>\n",
       "            <td>Jouets et ours</td>\n",
       "            <td>1 Rue Amusement</td>\n",
       "            <td>Paris</td>\n",
       "        </tr>\n",
       "    </tbody>\n",
       "</table>"
      ],
      "text/plain": [
       "[('BRE02', 'Bear Emporium', '500 Park Street', 'Anytown'),\n",
       " ('BRS01', 'Bears R Us', '123 Main Street', 'Bear Town'),\n",
       " ('DLL01', 'Doll House Inc.', '555 High Street', 'Dollsville'),\n",
       " ('FNG01', 'Fun and Games', '42 Galaxy Road', 'London'),\n",
       " ('FRB01', 'Furball Inc.', '1000 5th Avenue', 'New York'),\n",
       " ('JTS01', 'Jouets et ours', '1 Rue Amusement', 'Paris')]"
      ]
     },
     "execution_count": 19,
     "metadata": {},
     "output_type": "execute_result"
    }
   ],
   "source": [
    "%%sql\n",
    "select vend_id,vend_name as vname,vend_address as vaddress,vend_city as vcity from Vendors order by vname;"
   ]
  },
  {
   "cell_type": "code",
   "execution_count": 20,
   "id": "37383743-013c-4a19-aaa3-aba2e1679edd",
   "metadata": {},
   "outputs": [
    {
     "name": "stdout",
     "output_type": "stream",
     "text": [
      " * mysql://root@localhost/tysql\n",
      "6 rows affected.\n"
     ]
    },
    {
     "data": {
      "text/html": [
       "<table>\n",
       "    <thead>\n",
       "        <tr>\n",
       "            <th>vend_name</th>\n",
       "            <th>UPPER(vend_name)</th>\n",
       "        </tr>\n",
       "    </thead>\n",
       "    <tbody>\n",
       "        <tr>\n",
       "            <td>Bear Emporium</td>\n",
       "            <td>BEAR EMPORIUM</td>\n",
       "        </tr>\n",
       "        <tr>\n",
       "            <td>Bears R Us</td>\n",
       "            <td>BEARS R US</td>\n",
       "        </tr>\n",
       "        <tr>\n",
       "            <td>Doll House Inc.</td>\n",
       "            <td>DOLL HOUSE INC.</td>\n",
       "        </tr>\n",
       "        <tr>\n",
       "            <td>Fun and Games</td>\n",
       "            <td>FUN AND GAMES</td>\n",
       "        </tr>\n",
       "        <tr>\n",
       "            <td>Furball Inc.</td>\n",
       "            <td>FURBALL INC.</td>\n",
       "        </tr>\n",
       "        <tr>\n",
       "            <td>Jouets et ours</td>\n",
       "            <td>JOUETS ET OURS</td>\n",
       "        </tr>\n",
       "    </tbody>\n",
       "</table>"
      ],
      "text/plain": [
       "[('Bear Emporium', 'BEAR EMPORIUM'),\n",
       " ('Bears R Us', 'BEARS R US'),\n",
       " ('Doll House Inc.', 'DOLL HOUSE INC.'),\n",
       " ('Fun and Games', 'FUN AND GAMES'),\n",
       " ('Furball Inc.', 'FURBALL INC.'),\n",
       " ('Jouets et ours', 'JOUETS ET OURS')]"
      ]
     },
     "execution_count": 20,
     "metadata": {},
     "output_type": "execute_result"
    }
   ],
   "source": [
    "%%sql\n",
    "SELECT vend_name, UPPER(vend_name)\n",
    "    FROM Vendors\n",
    "    ORDER BY vend_name;\n"
   ]
  },
  {
   "cell_type": "code",
   "execution_count": 21,
   "id": "692802b9-c799-4be1-978f-db43ce5ee1ec",
   "metadata": {},
   "outputs": [
    {
     "name": "stdout",
     "output_type": "stream",
     "text": [
      " * mysql://root@localhost/tysql\n",
      "9 rows affected.\n"
     ]
    },
    {
     "data": {
      "text/html": [
       "<table>\n",
       "    <thead>\n",
       "        <tr>\n",
       "            <th>prod_id</th>\n",
       "            <th>prod_price</th>\n",
       "            <th>sale_price</th>\n",
       "        </tr>\n",
       "    </thead>\n",
       "    <tbody>\n",
       "        <tr>\n",
       "            <td>BNBG01</td>\n",
       "            <td>3.49</td>\n",
       "            <td>3.141</td>\n",
       "        </tr>\n",
       "        <tr>\n",
       "            <td>BNBG02</td>\n",
       "            <td>3.49</td>\n",
       "            <td>3.141</td>\n",
       "        </tr>\n",
       "        <tr>\n",
       "            <td>BNBG03</td>\n",
       "            <td>3.49</td>\n",
       "            <td>3.141</td>\n",
       "        </tr>\n",
       "        <tr>\n",
       "            <td>BR01</td>\n",
       "            <td>5.99</td>\n",
       "            <td>5.391</td>\n",
       "        </tr>\n",
       "        <tr>\n",
       "            <td>BR02</td>\n",
       "            <td>8.99</td>\n",
       "            <td>8.091</td>\n",
       "        </tr>\n",
       "        <tr>\n",
       "            <td>BR03</td>\n",
       "            <td>11.99</td>\n",
       "            <td>10.791</td>\n",
       "        </tr>\n",
       "        <tr>\n",
       "            <td>RGAN01</td>\n",
       "            <td>4.99</td>\n",
       "            <td>4.491</td>\n",
       "        </tr>\n",
       "        <tr>\n",
       "            <td>RYL01</td>\n",
       "            <td>9.49</td>\n",
       "            <td>8.541</td>\n",
       "        </tr>\n",
       "        <tr>\n",
       "            <td>RYL02</td>\n",
       "            <td>9.49</td>\n",
       "            <td>8.541</td>\n",
       "        </tr>\n",
       "    </tbody>\n",
       "</table>"
      ],
      "text/plain": [
       "[('BNBG01', Decimal('3.49'), Decimal('3.141')),\n",
       " ('BNBG02', Decimal('3.49'), Decimal('3.141')),\n",
       " ('BNBG03', Decimal('3.49'), Decimal('3.141')),\n",
       " ('BR01', Decimal('5.99'), Decimal('5.391')),\n",
       " ('BR02', Decimal('8.99'), Decimal('8.091')),\n",
       " ('BR03', Decimal('11.99'), Decimal('10.791')),\n",
       " ('RGAN01', Decimal('4.99'), Decimal('4.491')),\n",
       " ('RYL01', Decimal('9.49'), Decimal('8.541')),\n",
       " ('RYL02', Decimal('9.49'), Decimal('8.541'))]"
      ]
     },
     "execution_count": 21,
     "metadata": {},
     "output_type": "execute_result"
    }
   ],
   "source": [
    "%%sql\n",
    "select prod_id,prod_price,prod_price*0.9 as sale_price from Products;"
   ]
  },
  {
   "cell_type": "code",
   "execution_count": 22,
   "id": "073681e9-348c-4525-8a41-4ed3f989c367",
   "metadata": {},
   "outputs": [
    {
     "name": "stdout",
     "output_type": "stream",
     "text": [
      " * mysql://root@localhost/tysql\n",
      "5 rows affected.\n"
     ]
    },
    {
     "data": {
      "text/html": [
       "<table>\n",
       "    <thead>\n",
       "        <tr>\n",
       "            <th>cust_id</th>\n",
       "            <th>cust_name</th>\n",
       "            <th>user_login</th>\n",
       "        </tr>\n",
       "    </thead>\n",
       "    <tbody>\n",
       "        <tr>\n",
       "            <td>1000000001</td>\n",
       "            <td>Village Toys</td>\n",
       "            <td>JoDet</td>\n",
       "        </tr>\n",
       "        <tr>\n",
       "            <td>1000000002</td>\n",
       "            <td>Kids Place</td>\n",
       "            <td>MiCol</td>\n",
       "        </tr>\n",
       "        <tr>\n",
       "            <td>1000000003</td>\n",
       "            <td>Fun4All</td>\n",
       "            <td>JiMun</td>\n",
       "        </tr>\n",
       "        <tr>\n",
       "            <td>1000000004</td>\n",
       "            <td>Fun4All</td>\n",
       "            <td>DePho</td>\n",
       "        </tr>\n",
       "        <tr>\n",
       "            <td>1000000005</td>\n",
       "            <td>The Toy Store</td>\n",
       "            <td>KiChi</td>\n",
       "        </tr>\n",
       "    </tbody>\n",
       "</table>"
      ],
      "text/plain": [
       "[('1000000001', 'Village Toys', 'JoDet'),\n",
       " ('1000000002', 'Kids Place', 'MiCol'),\n",
       " ('1000000003', 'Fun4All', 'JiMun'),\n",
       " ('1000000004', 'Fun4All', 'DePho'),\n",
       " ('1000000005', 'The Toy Store', 'KiChi')]"
      ]
     },
     "execution_count": 22,
     "metadata": {},
     "output_type": "execute_result"
    }
   ],
   "source": [
    "%%sql\n",
    "select cust_id,cust_name,concat(left(cust_contact,2),left(cust_city,3)) as user_login from Customers;"
   ]
  },
  {
   "cell_type": "code",
   "execution_count": 23,
   "id": "fc2c7202-6adf-49e1-b5ac-3b32f2016f09",
   "metadata": {},
   "outputs": [
    {
     "name": "stdout",
     "output_type": "stream",
     "text": [
      " * mysql://root@localhost/tysql\n",
      "5 rows affected.\n"
     ]
    },
    {
     "data": {
      "text/html": [
       "<table>\n",
       "    <thead>\n",
       "        <tr>\n",
       "            <th>Tables_in_tysql</th>\n",
       "        </tr>\n",
       "    </thead>\n",
       "    <tbody>\n",
       "        <tr>\n",
       "            <td>Customers</td>\n",
       "        </tr>\n",
       "        <tr>\n",
       "            <td>OrderItems</td>\n",
       "        </tr>\n",
       "        <tr>\n",
       "            <td>Orders</td>\n",
       "        </tr>\n",
       "        <tr>\n",
       "            <td>Products</td>\n",
       "        </tr>\n",
       "        <tr>\n",
       "            <td>Vendors</td>\n",
       "        </tr>\n",
       "    </tbody>\n",
       "</table>"
      ],
      "text/plain": [
       "[('Customers',), ('OrderItems',), ('Orders',), ('Products',), ('Vendors',)]"
      ]
     },
     "execution_count": 23,
     "metadata": {},
     "output_type": "execute_result"
    }
   ],
   "source": [
    "%%sql\n",
    "show tables;"
   ]
  },
  {
   "cell_type": "code",
   "execution_count": 24,
   "id": "a21496ea-9128-4bfa-bdad-943fea5a4291",
   "metadata": {},
   "outputs": [
    {
     "name": "stdout",
     "output_type": "stream",
     "text": [
      " * mysql://root@localhost/tysql\n",
      "2 rows affected.\n"
     ]
    },
    {
     "data": {
      "text/html": [
       "<table>\n",
       "    <thead>\n",
       "        <tr>\n",
       "            <th>order_num</th>\n",
       "            <th>order_date</th>\n",
       "        </tr>\n",
       "    </thead>\n",
       "    <tbody>\n",
       "        <tr>\n",
       "            <td>20006</td>\n",
       "            <td>2020-01-12 00:00:00</td>\n",
       "        </tr>\n",
       "        <tr>\n",
       "            <td>20007</td>\n",
       "            <td>2020-01-30 00:00:00</td>\n",
       "        </tr>\n",
       "    </tbody>\n",
       "</table>"
      ],
      "text/plain": [
       "[(20006, datetime.datetime(2020, 1, 12, 0, 0)),\n",
       " (20007, datetime.datetime(2020, 1, 30, 0, 0))]"
      ]
     },
     "execution_count": 24,
     "metadata": {},
     "output_type": "execute_result"
    }
   ],
   "source": [
    "%%sql\n",
    "select order_num,order_date \n",
    "from Orders \n",
    "where year(order_date)=2020 and month(order_date)=1 \n",
    "order by order_date;"
   ]
  },
  {
   "cell_type": "code",
   "execution_count": 25,
   "id": "0f3b3431-6f2a-45f9-be57-6fc48d638748",
   "metadata": {},
   "outputs": [
    {
     "name": "stdout",
     "output_type": "stream",
     "text": [
      " * mysql://root@localhost/tysql\n",
      "5 rows affected.\n"
     ]
    },
    {
     "data": {
      "text/html": [
       "<table>\n",
       "    <thead>\n",
       "        <tr>\n",
       "            <th>order_num</th>\n",
       "            <th>order_date</th>\n",
       "            <th>cust_id</th>\n",
       "        </tr>\n",
       "    </thead>\n",
       "    <tbody>\n",
       "        <tr>\n",
       "            <td>20005</td>\n",
       "            <td>2020-05-01 00:00:00</td>\n",
       "            <td>1000000001</td>\n",
       "        </tr>\n",
       "        <tr>\n",
       "            <td>20006</td>\n",
       "            <td>2020-01-12 00:00:00</td>\n",
       "            <td>1000000003</td>\n",
       "        </tr>\n",
       "        <tr>\n",
       "            <td>20007</td>\n",
       "            <td>2020-01-30 00:00:00</td>\n",
       "            <td>1000000004</td>\n",
       "        </tr>\n",
       "        <tr>\n",
       "            <td>20008</td>\n",
       "            <td>2020-02-03 00:00:00</td>\n",
       "            <td>1000000005</td>\n",
       "        </tr>\n",
       "        <tr>\n",
       "            <td>20009</td>\n",
       "            <td>2020-02-08 00:00:00</td>\n",
       "            <td>1000000001</td>\n",
       "        </tr>\n",
       "    </tbody>\n",
       "</table>"
      ],
      "text/plain": [
       "[(20005, datetime.datetime(2020, 5, 1, 0, 0), '1000000001'),\n",
       " (20006, datetime.datetime(2020, 1, 12, 0, 0), '1000000003'),\n",
       " (20007, datetime.datetime(2020, 1, 30, 0, 0), '1000000004'),\n",
       " (20008, datetime.datetime(2020, 2, 3, 0, 0), '1000000005'),\n",
       " (20009, datetime.datetime(2020, 2, 8, 0, 0), '1000000001')]"
      ]
     },
     "execution_count": 25,
     "metadata": {},
     "output_type": "execute_result"
    }
   ],
   "source": [
    "%%sql\n",
    "select * from Orders;"
   ]
  },
  {
   "cell_type": "code",
   "execution_count": 26,
   "id": "b7addb9b-a6ae-439d-8068-6ccee2e6da87",
   "metadata": {},
   "outputs": [
    {
     "name": "stdout",
     "output_type": "stream",
     "text": [
      " * mysql://root@localhost/tysql\n",
      "1 rows affected.\n"
     ]
    },
    {
     "data": {
      "text/html": [
       "<table>\n",
       "    <thead>\n",
       "        <tr>\n",
       "            <th>ordersum001</th>\n",
       "        </tr>\n",
       "    </thead>\n",
       "    <tbody>\n",
       "        <tr>\n",
       "            <td>2</td>\n",
       "        </tr>\n",
       "    </tbody>\n",
       "</table>"
      ],
      "text/plain": [
       "[(2,)]"
      ]
     },
     "execution_count": 26,
     "metadata": {},
     "output_type": "execute_result"
    }
   ],
   "source": [
    "%%sql\n",
    "select count(*) as ordersum001\n",
    "from Orders\n",
    "where cust_id = 1000000001;"
   ]
  },
  {
   "cell_type": "code",
   "execution_count": 27,
   "id": "fc6d7657-c06f-459c-93dc-2997380dd3af",
   "metadata": {},
   "outputs": [
    {
     "name": "stdout",
     "output_type": "stream",
     "text": [
      " * mysql://root@localhost/tysql\n",
      "1 rows affected.\n"
     ]
    },
    {
     "data": {
      "text/html": [
       "<table>\n",
       "    <thead>\n",
       "        <tr>\n",
       "            <th>sumofqua</th>\n",
       "        </tr>\n",
       "    </thead>\n",
       "    <tbody>\n",
       "        <tr>\n",
       "            <td>120</td>\n",
       "        </tr>\n",
       "    </tbody>\n",
       "</table>"
      ],
      "text/plain": [
       "[(Decimal('120'),)]"
      ]
     },
     "execution_count": 27,
     "metadata": {},
     "output_type": "execute_result"
    }
   ],
   "source": [
    "%%sql\n",
    "select sum(quantity) as sumofqua\n",
    "from OrderItems\n",
    "where prod_id ='BR01';"
   ]
  },
  {
   "cell_type": "code",
   "execution_count": 28,
   "id": "31c98e42-e4a5-4c04-b6b7-3c2b9ab7b144",
   "metadata": {},
   "outputs": [
    {
     "name": "stdout",
     "output_type": "stream",
     "text": [
      " * mysql://root@localhost/tysql\n",
      "1 rows affected.\n"
     ]
    },
    {
     "data": {
      "text/html": [
       "<table>\n",
       "    <thead>\n",
       "        <tr>\n",
       "            <th>max(prod_price)</th>\n",
       "        </tr>\n",
       "    </thead>\n",
       "    <tbody>\n",
       "        <tr>\n",
       "            <td>11.99</td>\n",
       "        </tr>\n",
       "    </tbody>\n",
       "</table>"
      ],
      "text/plain": [
       "[(Decimal('11.99'),)]"
      ]
     },
     "execution_count": 28,
     "metadata": {},
     "output_type": "execute_result"
    }
   ],
   "source": [
    "%%sql\n",
    "select max(prod_price)\n",
    "from Products\n",
    "where prod_price>=10;"
   ]
  },
  {
   "cell_type": "code",
   "execution_count": 29,
   "id": "d6370b5f-d1a3-4400-bdbb-45a8549fa903",
   "metadata": {},
   "outputs": [
    {
     "name": "stdout",
     "output_type": "stream",
     "text": [
      " * mysql://root@localhost/tysql\n",
      "5 rows affected.\n"
     ]
    },
    {
     "data": {
      "text/html": [
       "<table>\n",
       "    <thead>\n",
       "        <tr>\n",
       "            <th>order_num</th>\n",
       "            <th>order_lines</th>\n",
       "        </tr>\n",
       "    </thead>\n",
       "    <tbody>\n",
       "        <tr>\n",
       "            <td>20005</td>\n",
       "            <td>2</td>\n",
       "        </tr>\n",
       "        <tr>\n",
       "            <td>20006</td>\n",
       "            <td>3</td>\n",
       "        </tr>\n",
       "        <tr>\n",
       "            <td>20009</td>\n",
       "            <td>3</td>\n",
       "        </tr>\n",
       "        <tr>\n",
       "            <td>20007</td>\n",
       "            <td>5</td>\n",
       "        </tr>\n",
       "        <tr>\n",
       "            <td>20008</td>\n",
       "            <td>5</td>\n",
       "        </tr>\n",
       "    </tbody>\n",
       "</table>"
      ],
      "text/plain": [
       "[(20005, 2), (20006, 3), (20009, 3), (20007, 5), (20008, 5)]"
      ]
     },
     "execution_count": 29,
     "metadata": {},
     "output_type": "execute_result"
    }
   ],
   "source": [
    "%%sql\n",
    "select order_num,count(*) as order_lines\n",
    "from OrderItems\n",
    "group by order_num\n",
    "order by order_lines"
   ]
  },
  {
   "cell_type": "code",
   "execution_count": 30,
   "id": "a94b93e1-c539-4376-8e7d-35f671f5f9a3",
   "metadata": {},
   "outputs": [
    {
     "name": "stdout",
     "output_type": "stream",
     "text": [
      " * mysql://root@localhost/tysql\n",
      "3 rows affected.\n"
     ]
    },
    {
     "data": {
      "text/html": [
       "<table>\n",
       "    <thead>\n",
       "        <tr>\n",
       "            <th>vend_id</th>\n",
       "            <th>prod_id</th>\n",
       "            <th>cheapest_item</th>\n",
       "        </tr>\n",
       "    </thead>\n",
       "    <tbody>\n",
       "        <tr>\n",
       "            <td>DLL01</td>\n",
       "            <td>BNBG01</td>\n",
       "            <td>3.49</td>\n",
       "        </tr>\n",
       "        <tr>\n",
       "            <td>BRS01</td>\n",
       "            <td>BR01</td>\n",
       "            <td>5.99</td>\n",
       "        </tr>\n",
       "        <tr>\n",
       "            <td>FNG01</td>\n",
       "            <td>RYL01</td>\n",
       "            <td>9.49</td>\n",
       "        </tr>\n",
       "    </tbody>\n",
       "</table>"
      ],
      "text/plain": [
       "[('DLL01', 'BNBG01', Decimal('3.49')),\n",
       " ('BRS01', 'BR01', Decimal('5.99')),\n",
       " ('FNG01', 'RYL01', Decimal('9.49'))]"
      ]
     },
     "execution_count": 30,
     "metadata": {},
     "output_type": "execute_result"
    }
   ],
   "source": [
    "%%sql\n",
    "select vend_id,prod_id,min(prod_price) as cheapest_item\n",
    "from Products\n",
    "group by vend_id\n",
    "order by cheapest_item;"
   ]
  },
  {
   "cell_type": "code",
   "execution_count": 31,
   "id": "a377c203-5d84-4aca-974a-2cc114891366",
   "metadata": {
    "scrolled": true
   },
   "outputs": [
    {
     "name": "stdout",
     "output_type": "stream",
     "text": [
      " * mysql://root@localhost/tysql\n",
      "3 rows affected.\n"
     ]
    },
    {
     "data": {
      "text/html": [
       "<table>\n",
       "    <thead>\n",
       "        <tr>\n",
       "            <th>order_num</th>\n",
       "            <th>sum_order</th>\n",
       "        </tr>\n",
       "    </thead>\n",
       "    <tbody>\n",
       "        <tr>\n",
       "            <td>20005</td>\n",
       "            <td>200</td>\n",
       "        </tr>\n",
       "        <tr>\n",
       "            <td>20007</td>\n",
       "            <td>400</td>\n",
       "        </tr>\n",
       "        <tr>\n",
       "            <td>20009</td>\n",
       "            <td>750</td>\n",
       "        </tr>\n",
       "    </tbody>\n",
       "</table>"
      ],
      "text/plain": [
       "[(20005, Decimal('200')), (20007, Decimal('400')), (20009, Decimal('750'))]"
      ]
     },
     "execution_count": 31,
     "metadata": {},
     "output_type": "execute_result"
    }
   ],
   "source": [
    "%%sql\n",
    "select order_num,sum(quantity) as sum_order\n",
    "from OrderItems\n",
    "group by order_num\n",
    "having sum_order>=100;"
   ]
  },
  {
   "cell_type": "code",
   "execution_count": 32,
   "id": "292a8017-086d-42b1-a48e-65eb75b401e2",
   "metadata": {},
   "outputs": [
    {
     "name": "stdout",
     "output_type": "stream",
     "text": [
      " * mysql://root@localhost/tysql\n",
      "4 rows affected.\n"
     ]
    },
    {
     "data": {
      "text/html": [
       "<table>\n",
       "    <thead>\n",
       "        <tr>\n",
       "            <th>order_num</th>\n",
       "            <th>max_price</th>\n",
       "        </tr>\n",
       "    </thead>\n",
       "    <tbody>\n",
       "        <tr>\n",
       "            <td>20005</td>\n",
       "            <td>10.99</td>\n",
       "        </tr>\n",
       "        <tr>\n",
       "            <td>20006</td>\n",
       "            <td>11.99</td>\n",
       "        </tr>\n",
       "        <tr>\n",
       "            <td>20007</td>\n",
       "            <td>11.49</td>\n",
       "        </tr>\n",
       "        <tr>\n",
       "            <td>20008</td>\n",
       "            <td>11.99</td>\n",
       "        </tr>\n",
       "    </tbody>\n",
       "</table>"
      ],
      "text/plain": [
       "[(20005, Decimal('10.99')),\n",
       " (20006, Decimal('11.99')),\n",
       " (20007, Decimal('11.49')),\n",
       " (20008, Decimal('11.99'))]"
      ]
     },
     "execution_count": 32,
     "metadata": {},
     "output_type": "execute_result"
    }
   ],
   "source": [
    "%%sql\n",
    "select order_num,max(item_price) as max_price\n",
    "from OrderItems\n",
    "group by order_num\n",
    "having max_price >=10\n",
    "order by order_num;"
   ]
  },
  {
   "cell_type": "code",
   "execution_count": 33,
   "id": "a6619b8a-9a0a-4fd9-bdab-395b76471156",
   "metadata": {
    "scrolled": true
   },
   "outputs": [
    {
     "name": "stdout",
     "output_type": "stream",
     "text": [
      " * mysql://root@localhost/tysql\n",
      "3 rows affected.\n"
     ]
    },
    {
     "data": {
      "text/html": [
       "<table>\n",
       "    <thead>\n",
       "        <tr>\n",
       "            <th>cust_id</th>\n",
       "            <th>cust_name</th>\n",
       "        </tr>\n",
       "    </thead>\n",
       "    <tbody>\n",
       "        <tr>\n",
       "            <td>1000000003</td>\n",
       "            <td>Fun4All</td>\n",
       "        </tr>\n",
       "        <tr>\n",
       "            <td>1000000004</td>\n",
       "            <td>Fun4All</td>\n",
       "        </tr>\n",
       "        <tr>\n",
       "            <td>1000000005</td>\n",
       "            <td>The Toy Store</td>\n",
       "        </tr>\n",
       "    </tbody>\n",
       "</table>"
      ],
      "text/plain": [
       "[('1000000003', 'Fun4All'),\n",
       " ('1000000004', 'Fun4All'),\n",
       " ('1000000005', 'The Toy Store')]"
      ]
     },
     "execution_count": 33,
     "metadata": {},
     "output_type": "execute_result"
    }
   ],
   "source": [
    "%%sql\n",
    "select cust_id,cust_name \n",
    "from Customers\n",
    "where cust_id in (select cust_id\n",
    "                  from Orders\n",
    "     where order_num in(select order_num\n",
    "                  from OrderItems\n",
    " group by order_num\n",
    " having max(item_price)>=11))"
   ]
  },
  {
   "cell_type": "code",
   "execution_count": 34,
   "id": "1350c881-3c48-4c26-b97b-d33099dfa091",
   "metadata": {},
   "outputs": [
    {
     "name": "stdout",
     "output_type": "stream",
     "text": [
      " * mysql://root@localhost/tysql\n",
      "18 rows affected.\n"
     ]
    },
    {
     "data": {
      "text/html": [
       "<table>\n",
       "    <thead>\n",
       "        <tr>\n",
       "            <th>order_num</th>\n",
       "            <th>order_item</th>\n",
       "            <th>prod_id</th>\n",
       "            <th>quantity</th>\n",
       "            <th>item_price</th>\n",
       "        </tr>\n",
       "    </thead>\n",
       "    <tbody>\n",
       "        <tr>\n",
       "            <td>20005</td>\n",
       "            <td>1</td>\n",
       "            <td>BR01</td>\n",
       "            <td>100</td>\n",
       "            <td>5.49</td>\n",
       "        </tr>\n",
       "        <tr>\n",
       "            <td>20005</td>\n",
       "            <td>2</td>\n",
       "            <td>BR03</td>\n",
       "            <td>100</td>\n",
       "            <td>10.99</td>\n",
       "        </tr>\n",
       "        <tr>\n",
       "            <td>20006</td>\n",
       "            <td>1</td>\n",
       "            <td>BR01</td>\n",
       "            <td>20</td>\n",
       "            <td>5.99</td>\n",
       "        </tr>\n",
       "        <tr>\n",
       "            <td>20006</td>\n",
       "            <td>2</td>\n",
       "            <td>BR02</td>\n",
       "            <td>10</td>\n",
       "            <td>8.99</td>\n",
       "        </tr>\n",
       "        <tr>\n",
       "            <td>20006</td>\n",
       "            <td>3</td>\n",
       "            <td>BR03</td>\n",
       "            <td>10</td>\n",
       "            <td>11.99</td>\n",
       "        </tr>\n",
       "        <tr>\n",
       "            <td>20007</td>\n",
       "            <td>1</td>\n",
       "            <td>BR03</td>\n",
       "            <td>50</td>\n",
       "            <td>11.49</td>\n",
       "        </tr>\n",
       "        <tr>\n",
       "            <td>20007</td>\n",
       "            <td>2</td>\n",
       "            <td>BNBG01</td>\n",
       "            <td>100</td>\n",
       "            <td>2.99</td>\n",
       "        </tr>\n",
       "        <tr>\n",
       "            <td>20007</td>\n",
       "            <td>3</td>\n",
       "            <td>BNBG02</td>\n",
       "            <td>100</td>\n",
       "            <td>2.99</td>\n",
       "        </tr>\n",
       "        <tr>\n",
       "            <td>20007</td>\n",
       "            <td>4</td>\n",
       "            <td>BNBG03</td>\n",
       "            <td>100</td>\n",
       "            <td>2.99</td>\n",
       "        </tr>\n",
       "        <tr>\n",
       "            <td>20007</td>\n",
       "            <td>5</td>\n",
       "            <td>RGAN01</td>\n",
       "            <td>50</td>\n",
       "            <td>4.49</td>\n",
       "        </tr>\n",
       "        <tr>\n",
       "            <td>20008</td>\n",
       "            <td>1</td>\n",
       "            <td>RGAN01</td>\n",
       "            <td>5</td>\n",
       "            <td>4.99</td>\n",
       "        </tr>\n",
       "        <tr>\n",
       "            <td>20008</td>\n",
       "            <td>2</td>\n",
       "            <td>BR03</td>\n",
       "            <td>5</td>\n",
       "            <td>11.99</td>\n",
       "        </tr>\n",
       "        <tr>\n",
       "            <td>20008</td>\n",
       "            <td>3</td>\n",
       "            <td>BNBG01</td>\n",
       "            <td>10</td>\n",
       "            <td>3.49</td>\n",
       "        </tr>\n",
       "        <tr>\n",
       "            <td>20008</td>\n",
       "            <td>4</td>\n",
       "            <td>BNBG02</td>\n",
       "            <td>10</td>\n",
       "            <td>3.49</td>\n",
       "        </tr>\n",
       "        <tr>\n",
       "            <td>20008</td>\n",
       "            <td>5</td>\n",
       "            <td>BNBG03</td>\n",
       "            <td>10</td>\n",
       "            <td>3.49</td>\n",
       "        </tr>\n",
       "        <tr>\n",
       "            <td>20009</td>\n",
       "            <td>1</td>\n",
       "            <td>BNBG01</td>\n",
       "            <td>250</td>\n",
       "            <td>2.49</td>\n",
       "        </tr>\n",
       "        <tr>\n",
       "            <td>20009</td>\n",
       "            <td>2</td>\n",
       "            <td>BNBG02</td>\n",
       "            <td>250</td>\n",
       "            <td>2.49</td>\n",
       "        </tr>\n",
       "        <tr>\n",
       "            <td>20009</td>\n",
       "            <td>3</td>\n",
       "            <td>BNBG03</td>\n",
       "            <td>250</td>\n",
       "            <td>2.49</td>\n",
       "        </tr>\n",
       "    </tbody>\n",
       "</table>"
      ],
      "text/plain": [
       "[(20005, 1, 'BR01', 100, Decimal('5.49')),\n",
       " (20005, 2, 'BR03', 100, Decimal('10.99')),\n",
       " (20006, 1, 'BR01', 20, Decimal('5.99')),\n",
       " (20006, 2, 'BR02', 10, Decimal('8.99')),\n",
       " (20006, 3, 'BR03', 10, Decimal('11.99')),\n",
       " (20007, 1, 'BR03', 50, Decimal('11.49')),\n",
       " (20007, 2, 'BNBG01', 100, Decimal('2.99')),\n",
       " (20007, 3, 'BNBG02', 100, Decimal('2.99')),\n",
       " (20007, 4, 'BNBG03', 100, Decimal('2.99')),\n",
       " (20007, 5, 'RGAN01', 50, Decimal('4.49')),\n",
       " (20008, 1, 'RGAN01', 5, Decimal('4.99')),\n",
       " (20008, 2, 'BR03', 5, Decimal('11.99')),\n",
       " (20008, 3, 'BNBG01', 10, Decimal('3.49')),\n",
       " (20008, 4, 'BNBG02', 10, Decimal('3.49')),\n",
       " (20008, 5, 'BNBG03', 10, Decimal('3.49')),\n",
       " (20009, 1, 'BNBG01', 250, Decimal('2.49')),\n",
       " (20009, 2, 'BNBG02', 250, Decimal('2.49')),\n",
       " (20009, 3, 'BNBG03', 250, Decimal('2.49'))]"
      ]
     },
     "execution_count": 34,
     "metadata": {},
     "output_type": "execute_result"
    }
   ],
   "source": [
    "%%sql\n",
    "select * from OrderItems;"
   ]
  },
  {
   "cell_type": "code",
   "execution_count": 35,
   "id": "1962f211-112b-464e-a17a-a445d8ad2703",
   "metadata": {},
   "outputs": [
    {
     "name": "stdout",
     "output_type": "stream",
     "text": [
      " * mysql://root@localhost/tysql\n",
      "5 rows affected.\n"
     ]
    },
    {
     "data": {
      "text/html": [
       "<table>\n",
       "    <thead>\n",
       "        <tr>\n",
       "            <th>order_num</th>\n",
       "            <th>order_date</th>\n",
       "            <th>cust_id</th>\n",
       "        </tr>\n",
       "    </thead>\n",
       "    <tbody>\n",
       "        <tr>\n",
       "            <td>20005</td>\n",
       "            <td>2020-05-01 00:00:00</td>\n",
       "            <td>1000000001</td>\n",
       "        </tr>\n",
       "        <tr>\n",
       "            <td>20006</td>\n",
       "            <td>2020-01-12 00:00:00</td>\n",
       "            <td>1000000003</td>\n",
       "        </tr>\n",
       "        <tr>\n",
       "            <td>20007</td>\n",
       "            <td>2020-01-30 00:00:00</td>\n",
       "            <td>1000000004</td>\n",
       "        </tr>\n",
       "        <tr>\n",
       "            <td>20008</td>\n",
       "            <td>2020-02-03 00:00:00</td>\n",
       "            <td>1000000005</td>\n",
       "        </tr>\n",
       "        <tr>\n",
       "            <td>20009</td>\n",
       "            <td>2020-02-08 00:00:00</td>\n",
       "            <td>1000000001</td>\n",
       "        </tr>\n",
       "    </tbody>\n",
       "</table>"
      ],
      "text/plain": [
       "[(20005, datetime.datetime(2020, 5, 1, 0, 0), '1000000001'),\n",
       " (20006, datetime.datetime(2020, 1, 12, 0, 0), '1000000003'),\n",
       " (20007, datetime.datetime(2020, 1, 30, 0, 0), '1000000004'),\n",
       " (20008, datetime.datetime(2020, 2, 3, 0, 0), '1000000005'),\n",
       " (20009, datetime.datetime(2020, 2, 8, 0, 0), '1000000001')]"
      ]
     },
     "execution_count": 35,
     "metadata": {},
     "output_type": "execute_result"
    }
   ],
   "source": [
    "%%sql\n",
    "select * from Orders;"
   ]
  },
  {
   "cell_type": "code",
   "execution_count": 36,
   "id": "bc93c02f-b915-4909-9ceb-e056e7169868",
   "metadata": {},
   "outputs": [
    {
     "name": "stdout",
     "output_type": "stream",
     "text": [
      " * mysql://root@localhost/tysql\n",
      "5 rows affected.\n"
     ]
    },
    {
     "data": {
      "text/html": [
       "<table>\n",
       "    <thead>\n",
       "        <tr>\n",
       "            <th>cust_id</th>\n",
       "            <th>cust_name</th>\n",
       "            <th>cust_address</th>\n",
       "            <th>cust_city</th>\n",
       "            <th>cust_state</th>\n",
       "            <th>cust_zip</th>\n",
       "            <th>cust_country</th>\n",
       "            <th>cust_contact</th>\n",
       "            <th>cust_email</th>\n",
       "        </tr>\n",
       "    </thead>\n",
       "    <tbody>\n",
       "        <tr>\n",
       "            <td>1000000001</td>\n",
       "            <td>Village Toys</td>\n",
       "            <td>200 Maple Lane</td>\n",
       "            <td>Detroit</td>\n",
       "            <td>MI</td>\n",
       "            <td>44444</td>\n",
       "            <td>USA</td>\n",
       "            <td>John Smith</td>\n",
       "            <td>sales@villagetoys.com</td>\n",
       "        </tr>\n",
       "        <tr>\n",
       "            <td>1000000002</td>\n",
       "            <td>Kids Place</td>\n",
       "            <td>333 South Lake Drive</td>\n",
       "            <td>Columbus</td>\n",
       "            <td>OH</td>\n",
       "            <td>43333</td>\n",
       "            <td>USA</td>\n",
       "            <td>Michelle Green</td>\n",
       "            <td>None</td>\n",
       "        </tr>\n",
       "        <tr>\n",
       "            <td>1000000003</td>\n",
       "            <td>Fun4All</td>\n",
       "            <td>1 Sunny Place</td>\n",
       "            <td>Muncie</td>\n",
       "            <td>IN</td>\n",
       "            <td>42222</td>\n",
       "            <td>USA</td>\n",
       "            <td>Jim Jones</td>\n",
       "            <td>jjones@fun4all.com</td>\n",
       "        </tr>\n",
       "        <tr>\n",
       "            <td>1000000004</td>\n",
       "            <td>Fun4All</td>\n",
       "            <td>829 Riverside Drive</td>\n",
       "            <td>Phoenix</td>\n",
       "            <td>AZ</td>\n",
       "            <td>88888</td>\n",
       "            <td>USA</td>\n",
       "            <td>Denise L. Stephens</td>\n",
       "            <td>dstephens@fun4all.com</td>\n",
       "        </tr>\n",
       "        <tr>\n",
       "            <td>1000000005</td>\n",
       "            <td>The Toy Store</td>\n",
       "            <td>4545 53rd Street</td>\n",
       "            <td>Chicago</td>\n",
       "            <td>IL</td>\n",
       "            <td>54545</td>\n",
       "            <td>USA</td>\n",
       "            <td>Kim Howard</td>\n",
       "            <td>None</td>\n",
       "        </tr>\n",
       "    </tbody>\n",
       "</table>"
      ],
      "text/plain": [
       "[('1000000001', 'Village Toys', '200 Maple Lane', 'Detroit', 'MI', '44444', 'USA', 'John Smith', 'sales@villagetoys.com'),\n",
       " ('1000000002', 'Kids Place', '333 South Lake Drive', 'Columbus', 'OH', '43333', 'USA', 'Michelle Green', None),\n",
       " ('1000000003', 'Fun4All', '1 Sunny Place', 'Muncie', 'IN', '42222', 'USA', 'Jim Jones', 'jjones@fun4all.com'),\n",
       " ('1000000004', 'Fun4All', '829 Riverside Drive', 'Phoenix', 'AZ', '88888', 'USA', 'Denise L. Stephens', 'dstephens@fun4all.com'),\n",
       " ('1000000005', 'The Toy Store', '4545 53rd Street', 'Chicago', 'IL', '54545', 'USA', 'Kim Howard', None)]"
      ]
     },
     "execution_count": 36,
     "metadata": {},
     "output_type": "execute_result"
    }
   ],
   "source": [
    "%%sql\n",
    "select * from Customers;"
   ]
  },
  {
   "cell_type": "code",
   "execution_count": 37,
   "id": "cc74dc9f-70ec-4ae6-9ec8-1796b5af0d1b",
   "metadata": {},
   "outputs": [
    {
     "data": {
      "text/plain": [
       "\u001b[0;31mDocstring:\u001b[0m\n",
       "Run the named file inside IPython as a program.\n",
       "\n",
       "Usage::\n",
       "\n",
       "  %run [-n -i -e -G]\n",
       "       [( -t [-N<N>] | -d [-b<N>] | -p [profile options] )]\n",
       "       ( -m mod | filename ) [args]\n",
       "\n",
       "The filename argument should be either a pure Python script (with\n",
       "extension ``.py``), or a file with custom IPython syntax (such as\n",
       "magics). If the latter, the file can be either a script with ``.ipy``\n",
       "extension, or a Jupyter notebook with ``.ipynb`` extension. When running\n",
       "a Jupyter notebook, the output from print statements and other\n",
       "displayed objects will appear in the terminal (even matplotlib figures\n",
       "will open, if a terminal-compliant backend is being used). Note that,\n",
       "at the system command line, the ``jupyter run`` command offers similar\n",
       "functionality for executing notebooks (albeit currently with some\n",
       "differences in supported options).\n",
       "\n",
       "Parameters after the filename are passed as command-line arguments to\n",
       "the program (put in sys.argv). Then, control returns to IPython's\n",
       "prompt.\n",
       "\n",
       "This is similar to running at a system prompt ``python file args``,\n",
       "but with the advantage of giving you IPython's tracebacks, and of\n",
       "loading all variables into your interactive namespace for further use\n",
       "(unless -p is used, see below).\n",
       "\n",
       "The file is executed in a namespace initially consisting only of\n",
       "``__name__=='__main__'`` and sys.argv constructed as indicated. It thus\n",
       "sees its environment as if it were being run as a stand-alone program\n",
       "(except for sharing global objects such as previously imported\n",
       "modules). But after execution, the IPython interactive namespace gets\n",
       "updated with all variables defined in the program (except for __name__\n",
       "and sys.argv). This allows for very convenient loading of code for\n",
       "interactive work, while giving each program a 'clean sheet' to run in.\n",
       "\n",
       "Arguments are expanded using shell-like glob match.  Patterns\n",
       "'*', '?', '[seq]' and '[!seq]' can be used.  Additionally,\n",
       "tilde '~' will be expanded into user's home directory.  Unlike\n",
       "real shells, quotation does not suppress expansions.  Use\n",
       "*two* back slashes (e.g. ``\\\\*``) to suppress expansions.\n",
       "To completely disable these expansions, you can use -G flag.\n",
       "\n",
       "On Windows systems, the use of single quotes `'` when specifying\n",
       "a file is not supported. Use double quotes `\"`.\n",
       "\n",
       "Options:\n",
       "\n",
       "-n\n",
       "  __name__ is NOT set to '__main__', but to the running file's name\n",
       "  without extension (as python does under import).  This allows running\n",
       "  scripts and reloading the definitions in them without calling code\n",
       "  protected by an ``if __name__ == \"__main__\"`` clause.\n",
       "\n",
       "-i\n",
       "  run the file in IPython's namespace instead of an empty one. This\n",
       "  is useful if you are experimenting with code written in a text editor\n",
       "  which depends on variables defined interactively.\n",
       "\n",
       "-e\n",
       "  ignore sys.exit() calls or SystemExit exceptions in the script\n",
       "  being run.  This is particularly useful if IPython is being used to\n",
       "  run unittests, which always exit with a sys.exit() call.  In such\n",
       "  cases you are interested in the output of the test results, not in\n",
       "  seeing a traceback of the unittest module.\n",
       "\n",
       "-t\n",
       "  print timing information at the end of the run.  IPython will give\n",
       "  you an estimated CPU time consumption for your script, which under\n",
       "  Unix uses the resource module to avoid the wraparound problems of\n",
       "  time.clock().  Under Unix, an estimate of time spent on system tasks\n",
       "  is also given (for Windows platforms this is reported as 0.0).\n",
       "\n",
       "If -t is given, an additional ``-N<N>`` option can be given, where <N>\n",
       "must be an integer indicating how many times you want the script to\n",
       "run.  The final timing report will include total and per run results.\n",
       "\n",
       "For example (testing the script uniq_stable.py)::\n",
       "\n",
       "    In [1]: run -t uniq_stable\n",
       "\n",
       "    IPython CPU timings (estimated):\n",
       "      User  :    0.19597 s.\n",
       "      System:        0.0 s.\n",
       "\n",
       "    In [2]: run -t -N5 uniq_stable\n",
       "\n",
       "    IPython CPU timings (estimated):\n",
       "    Total runs performed: 5\n",
       "      Times :      Total       Per run\n",
       "      User  :   0.910862 s,  0.1821724 s.\n",
       "      System:        0.0 s,        0.0 s.\n",
       "\n",
       "-d\n",
       "  run your program under the control of pdb, the Python debugger.\n",
       "  This allows you to execute your program step by step, watch variables,\n",
       "  etc.  Internally, what IPython does is similar to calling::\n",
       "\n",
       "      pdb.run('execfile(\"YOURFILENAME\")')\n",
       "\n",
       "  with a breakpoint set on line 1 of your file.  You can change the line\n",
       "  number for this automatic breakpoint to be <N> by using the -bN option\n",
       "  (where N must be an integer). For example::\n",
       "\n",
       "      %run -d -b40 myscript\n",
       "\n",
       "  will set the first breakpoint at line 40 in myscript.py.  Note that\n",
       "  the first breakpoint must be set on a line which actually does\n",
       "  something (not a comment or docstring) for it to stop execution.\n",
       "\n",
       "  Or you can specify a breakpoint in a different file::\n",
       "\n",
       "      %run -d -b myotherfile.py:20 myscript\n",
       "\n",
       "  When the pdb debugger starts, you will see a (Pdb) prompt.  You must\n",
       "  first enter 'c' (without quotes) to start execution up to the first\n",
       "  breakpoint.\n",
       "\n",
       "  Entering 'help' gives information about the use of the debugger.  You\n",
       "  can easily see pdb's full documentation with \"import pdb;pdb.help()\"\n",
       "  at a prompt.\n",
       "\n",
       "-p\n",
       "  run program under the control of the Python profiler module (which\n",
       "  prints a detailed report of execution times, function calls, etc).\n",
       "\n",
       "  You can pass other options after -p which affect the behavior of the\n",
       "  profiler itself. See the docs for %prun for details.\n",
       "\n",
       "  In this mode, the program's variables do NOT propagate back to the\n",
       "  IPython interactive namespace (because they remain in the namespace\n",
       "  where the profiler executes them).\n",
       "\n",
       "  Internally this triggers a call to %prun, see its documentation for\n",
       "  details on the options available specifically for profiling.\n",
       "\n",
       "There is one special usage for which the text above doesn't apply:\n",
       "if the filename ends with .ipy[nb], the file is run as ipython script,\n",
       "just as if the commands were written on IPython prompt.\n",
       "\n",
       "-m\n",
       "  specify module name to load instead of script path. Similar to\n",
       "  the -m option for the python interpreter. Use this option last if you\n",
       "  want to combine with other %run options. Unlike the python interpreter\n",
       "  only source modules are allowed no .pyc or .pyo files.\n",
       "  For example::\n",
       "\n",
       "      %run -m example\n",
       "\n",
       "  will run the example module.\n",
       "\n",
       "-G\n",
       "  disable shell-like glob expansion of arguments.\n",
       "\u001b[0;31mFile:\u001b[0m      /data/data/com.termux/files/usr/lib/python3.11/site-packages/IPython/core/magics/execution.py"
      ]
     },
     "metadata": {},
     "output_type": "display_data"
    }
   ],
   "source": [
    "%run?"
   ]
  },
  {
   "cell_type": "code",
   "execution_count": 38,
   "id": "2378b4a3-4742-4a67-9e7b-83b38562b7f9",
   "metadata": {},
   "outputs": [
    {
     "ename": "Exception",
     "evalue": "you must provide at least a filename.",
     "output_type": "error",
     "traceback": [
      "\u001b[0;31m---------------------------------------------------------------------------\u001b[0m",
      "\u001b[0;31mIndexError\u001b[0m                                Traceback (most recent call last)",
      "File \u001b[0;32m/data/data/com.termux/files/usr/lib/python3.11/site-packages/IPython/core/magics/execution.py:715\u001b[0m, in \u001b[0;36mExecutionMagics.run\u001b[0;34m(self, parameter_s, runner, file_finder)\u001b[0m\n\u001b[1;32m    714\u001b[0m fpath \u001b[38;5;241m=\u001b[39m \u001b[38;5;28;01mNone\u001b[39;00m \u001b[38;5;66;03m# initialize to make sure fpath is in scope later\u001b[39;00m\n\u001b[0;32m--> 715\u001b[0m fpath \u001b[38;5;241m=\u001b[39m \u001b[43marg_lst\u001b[49m\u001b[43m[\u001b[49m\u001b[38;5;241;43m0\u001b[39;49m\u001b[43m]\u001b[49m\n\u001b[1;32m    716\u001b[0m filename \u001b[38;5;241m=\u001b[39m file_finder(fpath)\n",
      "\u001b[0;31mIndexError\u001b[0m: list index out of range",
      "\nThe above exception was the direct cause of the following exception:\n",
      "\u001b[0;31mException\u001b[0m                                 Traceback (most recent call last)",
      "Cell \u001b[0;32mIn[38], line 1\u001b[0m\n\u001b[0;32m----> 1\u001b[0m \u001b[43mget_ipython\u001b[49m\u001b[43m(\u001b[49m\u001b[43m)\u001b[49m\u001b[38;5;241;43m.\u001b[39;49m\u001b[43mrun_line_magic\u001b[49m\u001b[43m(\u001b[49m\u001b[38;5;124;43m'\u001b[39;49m\u001b[38;5;124;43mrun\u001b[39;49m\u001b[38;5;124;43m'\u001b[39;49m\u001b[43m,\u001b[49m\u001b[43m \u001b[49m\u001b[38;5;124;43m'\u001b[39;49m\u001b[38;5;124;43m'\u001b[39;49m\u001b[43m)\u001b[49m\n\u001b[1;32m      2\u001b[0m ls\n",
      "File \u001b[0;32m/data/data/com.termux/files/usr/lib/python3.11/site-packages/IPython/core/interactiveshell.py:2432\u001b[0m, in \u001b[0;36mInteractiveShell.run_line_magic\u001b[0;34m(self, magic_name, line, _stack_depth)\u001b[0m\n\u001b[1;32m   2430\u001b[0m     kwargs[\u001b[38;5;124m'\u001b[39m\u001b[38;5;124mlocal_ns\u001b[39m\u001b[38;5;124m'\u001b[39m] \u001b[38;5;241m=\u001b[39m \u001b[38;5;28mself\u001b[39m\u001b[38;5;241m.\u001b[39mget_local_scope(stack_depth)\n\u001b[1;32m   2431\u001b[0m \u001b[38;5;28;01mwith\u001b[39;00m \u001b[38;5;28mself\u001b[39m\u001b[38;5;241m.\u001b[39mbuiltin_trap:\n\u001b[0;32m-> 2432\u001b[0m     result \u001b[38;5;241m=\u001b[39m \u001b[43mfn\u001b[49m\u001b[43m(\u001b[49m\u001b[38;5;241;43m*\u001b[39;49m\u001b[43margs\u001b[49m\u001b[43m,\u001b[49m\u001b[43m \u001b[49m\u001b[38;5;241;43m*\u001b[39;49m\u001b[38;5;241;43m*\u001b[39;49m\u001b[43mkwargs\u001b[49m\u001b[43m)\u001b[49m\n\u001b[1;32m   2434\u001b[0m \u001b[38;5;66;03m# The code below prevents the output from being displayed\u001b[39;00m\n\u001b[1;32m   2435\u001b[0m \u001b[38;5;66;03m# when using magics with decorator @output_can_be_silenced\u001b[39;00m\n\u001b[1;32m   2436\u001b[0m \u001b[38;5;66;03m# when the last Python token in the expression is a ';'.\u001b[39;00m\n\u001b[1;32m   2437\u001b[0m \u001b[38;5;28;01mif\u001b[39;00m \u001b[38;5;28mgetattr\u001b[39m(fn, magic\u001b[38;5;241m.\u001b[39mMAGIC_OUTPUT_CAN_BE_SILENCED, \u001b[38;5;28;01mFalse\u001b[39;00m):\n",
      "File \u001b[0;32m/data/data/com.termux/files/usr/lib/python3.11/site-packages/IPython/core/magics/execution.py:719\u001b[0m, in \u001b[0;36mExecutionMagics.run\u001b[0;34m(self, parameter_s, runner, file_finder)\u001b[0m\n\u001b[1;32m    717\u001b[0m \u001b[38;5;28;01mexcept\u001b[39;00m \u001b[38;5;167;01mIndexError\u001b[39;00m \u001b[38;5;28;01mas\u001b[39;00m e:\n\u001b[1;32m    718\u001b[0m     msg \u001b[38;5;241m=\u001b[39m \u001b[38;5;124m'\u001b[39m\u001b[38;5;124myou must provide at least a filename.\u001b[39m\u001b[38;5;124m'\u001b[39m\n\u001b[0;32m--> 719\u001b[0m     \u001b[38;5;28;01mraise\u001b[39;00m \u001b[38;5;167;01mException\u001b[39;00m(msg) \u001b[38;5;28;01mfrom\u001b[39;00m \u001b[38;5;21;01me\u001b[39;00m\n\u001b[1;32m    720\u001b[0m \u001b[38;5;28;01mexcept\u001b[39;00m \u001b[38;5;167;01mIOError\u001b[39;00m \u001b[38;5;28;01mas\u001b[39;00m e:\n\u001b[1;32m    721\u001b[0m     \u001b[38;5;28;01mtry\u001b[39;00m:\n",
      "\u001b[0;31mException\u001b[0m: you must provide at least a filename."
     ]
    }
   ],
   "source": [
    "%run\n",
    "ls"
   ]
  },
  {
   "cell_type": "code",
   "execution_count": 42,
   "id": "98473115-9d3e-433c-9116-e8b8d1ab5f14",
   "metadata": {},
   "outputs": [
    {
     "name": "stdout",
     "output_type": "stream",
     "text": [
      "Untitled.ipynb  mysql-python.ipynb  sql.ipynb  untitled.py\n"
     ]
    }
   ],
   "source": [
    "!ls"
   ]
  },
  {
   "cell_type": "code",
   "execution_count": 40,
   "id": "01e385c7-6e07-4e3d-a108-e2d439a91f9f",
   "metadata": {},
   "outputs": [
    {
     "name": "stdout",
     "output_type": "stream",
     "text": [
      "/data/data/com.termux/files/home/python\n"
     ]
    }
   ],
   "source": [
    "!pwd"
   ]
  },
  {
   "cell_type": "code",
   "execution_count": 41,
   "id": "6caf9ff7-6616-4769-8515-6c7ebf7d4457",
   "metadata": {},
   "outputs": [],
   "source": [
    "!cd .."
   ]
  },
  {
   "cell_type": "code",
   "execution_count": 43,
   "id": "49779aed-cb86-4dd4-aef9-5e36f50fdad1",
   "metadata": {},
   "outputs": [
    {
     "name": "stdout",
     "output_type": "stream",
     "text": [
      "Untitled.ipynb  mysql-python.ipynb  sql.ipynb  untitled.py\n"
     ]
    }
   ],
   "source": [
    "!ls"
   ]
  },
  {
   "cell_type": "code",
   "execution_count": 44,
   "id": "04b75c28-6d3c-47ee-967e-b62db3313294",
   "metadata": {},
   "outputs": [],
   "source": [
    "!cd .."
   ]
  },
  {
   "cell_type": "code",
   "execution_count": 45,
   "id": "8a8fa85b-aa7d-46c5-b1c4-5c79d48c2628",
   "metadata": {},
   "outputs": [
    {
     "name": "stdout",
     "output_type": "stream",
     "text": [
      "Untitled.ipynb  mysql-python.ipynb  sql.ipynb  untitled.py\n"
     ]
    }
   ],
   "source": [
    "!ls"
   ]
  },
  {
   "cell_type": "code",
   "execution_count": 46,
   "id": "163f8d26-0dc9-41b2-be19-7399b5ff18a7",
   "metadata": {},
   "outputs": [
    {
     "name": "stdout",
     "output_type": "stream",
     "text": [
      "/data/data/com.termux/files/home\n"
     ]
    }
   ],
   "source": [
    "cd"
   ]
  },
  {
   "cell_type": "code",
   "execution_count": 47,
   "id": "83a12f35-89fb-45af-af95-d0d732a1641f",
   "metadata": {},
   "outputs": [
    {
     "name": "stdout",
     "output_type": "stream",
     "text": [
      "a.txt        \u001b[0m\u001b[01;36mdownloads\u001b[0m@  pkglist.txt  \u001b[01;34mstorage\u001b[0m/\n",
      "aptlist.txt  nohup.out   \u001b[01;34mpython\u001b[0m/      untitled.md\n"
     ]
    }
   ],
   "source": [
    "ls"
   ]
  },
  {
   "cell_type": "code",
   "execution_count": 48,
   "id": "4f25a919-90c7-4526-aeb4-55ad1c898f21",
   "metadata": {},
   "outputs": [
    {
     "name": "stdout",
     "output_type": "stream",
     "text": [
      "/data/data/com.termux/files/home/python\n"
     ]
    }
   ],
   "source": [
    "cd python"
   ]
  },
  {
   "cell_type": "code",
   "execution_count": 49,
   "id": "6a9f8b66-014b-4c03-a102-bc974ec4415a",
   "metadata": {},
   "outputs": [
    {
     "name": "stdout",
     "output_type": "stream",
     "text": [
      "Untitled.ipynb  mysql-python.ipynb  sql.ipynb  untitled.py\n"
     ]
    }
   ],
   "source": [
    "ls"
   ]
  },
  {
   "cell_type": "code",
   "execution_count": null,
   "id": "3f3aa3fa-4dfa-46f6-bdf3-008ac3b69bdc",
   "metadata": {},
   "outputs": [],
   "source": []
  }
 ],
 "metadata": {
  "kernelspec": {
   "display_name": "Python 3 (ipykernel)",
   "language": "python",
   "name": "python3"
  },
  "language_info": {
   "codemirror_mode": {
    "name": "ipython",
    "version": 3
   },
   "file_extension": ".py",
   "mimetype": "text/x-python",
   "name": "python",
   "nbconvert_exporter": "python",
   "pygments_lexer": "ipython3",
   "version": "3.11.6"
  }
 },
 "nbformat": 4,
 "nbformat_minor": 5
}
