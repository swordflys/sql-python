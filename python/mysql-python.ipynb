{
 "cells": [
  {
   "cell_type": "code",
   "execution_count": 2,
   "id": "2e0929f0-2c7a-4f88-9f82-eb080861b3b0",
   "metadata": {},
   "outputs": [],
   "source": [
    "import mysql.connector\n",
    "\n",
    "# 连接到 MariaDB\n",
    "mydb = mysql.connector.connect(\n",
    "  host=\"localhost\",\n",
    "  user=\"root\",\n",
    "  password=\"\",\n",
    "  database=\"tysql\"\n",
    ")\n",
    "\n",
    "# 创建一个游标对象\n",
    "mycursor = mydb.cursor()"
   ]
  },
  {
   "cell_type": "code",
   "execution_count": 5,
   "id": "cf09b4c7-f3be-445d-936e-8028fbb72423",
   "metadata": {},
   "outputs": [
    {
     "name": "stdout",
     "output_type": "stream",
     "text": [
      "('BNBG01', 'DLL01', 'Fish bean bag toy', Decimal('3.49'), 'Fish bean bag toy, complete with bean bag worms with which to feed it')\n",
      "('BNBG02', 'DLL01', 'Bird bean bag toy', Decimal('3.49'), 'Bird bean bag toy, eggs are not included')\n",
      "('BNBG03', 'DLL01', 'Rabbit bean bag toy', Decimal('3.49'), 'Rabbit bean bag toy, comes with bean bag carrots')\n",
      "('BR01', 'BRS01', '8 inch teddy bear', Decimal('5.99'), '8 inch teddy bear, comes with cap and jacket')\n",
      "('BR02', 'BRS01', '12 inch teddy bear', Decimal('8.99'), '12 inch teddy bear, comes with cap and jacket')\n",
      "('BR03', 'BRS01', '18 inch teddy bear', Decimal('11.99'), '18 inch teddy bear, comes with cap and jacket')\n",
      "('RGAN01', 'DLL01', 'Raggedy Ann', Decimal('4.99'), '18 inch Raggedy Ann doll')\n",
      "('RYL01', 'FNG01', 'King doll', Decimal('9.49'), '12 inch king doll with royal garments and crown')\n",
      "('RYL02', 'FNG01', 'Queen doll', Decimal('9.49'), '12 inch queen doll with royal garments and crown')\n"
     ]
    }
   ],
   "source": [
    "# 查询数据\n",
    "mycursor.execute(\"SELECT * FROM tysql.Products\")\n",
    "\n",
    "# 获取所有查询结果\n",
    "myresult = mycursor.fetchall()\n",
    "\n",
    "myresult\n",
    "\n",
    "for x in myresult:\n",
    "  print(x)\n",
    "  #print(\"Username:\", x[1])\n",
    "  #print(\"Email:\", x[2])\n"
   ]
  },
  {
   "cell_type": "code",
   "execution_count": null,
   "id": "61735c74-5a1f-4b38-a60c-7294eaccb3cd",
   "metadata": {},
   "outputs": [],
   "source": []
  }
 ],
 "metadata": {
  "kernelspec": {
   "display_name": "Python 3 (ipykernel)",
   "language": "python",
   "name": "python3"
  },
  "language_info": {
   "codemirror_mode": {
    "name": "ipython",
    "version": 3
   },
   "file_extension": ".py",
   "mimetype": "text/x-python",
   "name": "python",
   "nbconvert_exporter": "python",
   "pygments_lexer": "ipython3",
   "version": "3.11.6"
  }
 },
 "nbformat": 4,
 "nbformat_minor": 5
}
